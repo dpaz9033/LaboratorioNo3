{
  "nbformat": 4,
  "nbformat_minor": 0,
  "metadata": {
    "colab": {
      "provenance": []
    },
    "kernelspec": {
      "name": "python3",
      "display_name": "Python 3"
    },
    "language_info": {
      "name": "python"
    }
  },
  "cells": [
    {
      "cell_type": "markdown",
      "source": [
        "Laboratorio: Análisis de Datos con Python"
      ],
      "metadata": {
        "id": "pLOSfZyDe8EG"
      }
    },
    {
      "cell_type": "code",
      "execution_count": null,
      "metadata": {
        "id": "n9DOGYDGXjNu"
      },
      "outputs": [],
      "source": [
        "  import numpy as np"
      ]
    },
    {
      "cell_type": "markdown",
      "source": [
        "1) ¿Cuál es el tamaño en bytes de un array de 1000  elementos de tipo booleano?"
      ],
      "metadata": {
        "id": "-YY-eYgXX-mR"
      }
    },
    {
      "cell_type": "code",
      "source": [
        "array1 = np.full((1000,), False, dtype=bool)\n",
        "tamaño_bytes = array1.nbytes\n",
        "print(\"El tamaño es de:\", tamaño_bytes,\"bytes\")"
      ],
      "metadata": {
        "colab": {
          "base_uri": "https://localhost:8080/"
        },
        "id": "x9y55GyuX25v",
        "outputId": "0fd600a6-ed8d-4c2d-f6e8-51ea2d54a6e6"
      },
      "execution_count": null,
      "outputs": [
        {
          "output_type": "stream",
          "name": "stdout",
          "text": [
            "El tamaño es de: 1000 bytes\n"
          ]
        }
      ]
    },
    {
      "cell_type": "markdown",
      "source": [
        "2) Cree un array cuyos elementos sean los enteros pares en [1,100] y en orden decreciente. Muestre los 10 últimos por pantalla. "
      ],
      "metadata": {
        "id": "bLedtLIEYWcx"
      }
    },
    {
      "cell_type": "code",
      "source": [
        "array2 = np.arange(100,0,-2)\n",
        "print(array2[-10:].tolist())"
      ],
      "metadata": {
        "colab": {
          "base_uri": "https://localhost:8080/"
        },
        "id": "cqY4RvJAYanJ",
        "outputId": "cf8833d9-f217-4685-da1f-b07065daf12b"
      },
      "execution_count": null,
      "outputs": [
        {
          "output_type": "stream",
          "name": "stdout",
          "text": [
            "[20, 18, 16, 14, 12, 10, 8, 6, 4, 2]\n"
          ]
        }
      ]
    },
    {
      "cell_type": "markdown",
      "source": [
        "3) Dado el array  2 4 5 6 0 3 7 4 8 8 5 2 1 5 6 1 Seleccione con una instrucción el subarray de elementos  0 3 7 4 Después, seleccione el subarray de elementos  2 5 8 5"
      ],
      "metadata": {
        "id": "Yd5dwsCmYlvJ"
      }
    },
    {
      "cell_type": "code",
      "source": [
        "array3 = np.array([[2,4,5,6],\n",
        "                   [0,3,7,4],\n",
        "                   [8,8,5,2],\n",
        "                   [1,5,6,1]])\n",
        "sub_array3=array3[1,:]\n",
        "print(sub_array3)\n",
        "sub_array4=array3[[0,2],[1,2]]\n",
        "print(sub_array4)"
      ],
      "metadata": {
        "colab": {
          "base_uri": "https://localhost:8080/"
        },
        "id": "MvpCOj-OYz1_",
        "outputId": "df61fad5-e60f-43db-f2d9-a091bb0b26ae"
      },
      "execution_count": null,
      "outputs": [
        {
          "output_type": "stream",
          "name": "stdout",
          "text": [
            "[0 3 7 4]\n",
            "[4 5]\n"
          ]
        }
      ]
    },
    {
      "cell_type": "markdown",
      "source": [
        "4) Dados los arrays a = [1, 4, 2, 7] y b = [1, 3, 2, 9], obtenga la media aritmética de la diferencia (a-b). "
      ],
      "metadata": {
        "id": "K2GbClBIZNuN"
      }
    },
    {
      "cell_type": "code",
      "source": [
        "a = np.array([1,4,2,7])\n",
        "b = np.array([1,3,2,9])\n",
        "diferencia=a-b\n",
        "media=np.mean(diferencia)\n",
        "print(media)"
      ],
      "metadata": {
        "colab": {
          "base_uri": "https://localhost:8080/"
        },
        "id": "fSSaCnmXZTcP",
        "outputId": "2f63945c-6886-4155-9993-b49c0d07a291"
      },
      "execution_count": null,
      "outputs": [
        {
          "output_type": "stream",
          "name": "stdout",
          "text": [
            "-0.25\n"
          ]
        }
      ]
    },
    {
      "cell_type": "markdown",
      "source": [
        "5) Tengo valores de cordenadas (x, y) en las columnas del array 1.33 4.5 30.0 10.7 70.2 0.5 "
      ],
      "metadata": {
        "id": "KL62XOBQZs1l"
      }
    },
    {
      "cell_type": "code",
      "source": [
        "array5 = np.array([[1.33, 4.5],\n",
        "                [30.0, 10.7],\n",
        "                [70.2, 0.5]])\n",
        "coordenadas = np.array([37.1, -3.6])\n",
        "array5 = np.vstack([array5, coordenadas])\n",
        "print(\"Lo nuevo es:\")\n",
        "print(array5)\n",
        "print(\"Dimensiones\", array5.shape[0], \"filas y\", array5.shape[1], \"columnas\")"
      ],
      "metadata": {
        "colab": {
          "base_uri": "https://localhost:8080/"
        },
        "id": "pmribfYSZx2h",
        "outputId": "ffc86b99-28d1-42a6-be3c-b014b54bb93f"
      },
      "execution_count": null,
      "outputs": [
        {
          "output_type": "stream",
          "name": "stdout",
          "text": [
            "Lo nuevo es:\n",
            "[[ 1.33  4.5 ]\n",
            " [30.   10.7 ]\n",
            " [70.2   0.5 ]\n",
            " [37.1  -3.6 ]]\n",
            "Dimensiones 4 filas y 2 columnas\n"
          ]
        }
      ]
    },
    {
      "cell_type": "markdown",
      "source": [
        "6)  Copie el array del ejercicio anterior. Traspóngalo (. Agregue ahora dos nuevos pares de coordenadas: (10.8, 3.0) y (35.8, 12.0). "
      ],
      "metadata": {
        "id": "bktnzWxSaT61"
      }
    },
    {
      "cell_type": "code",
      "source": [
        "array6 = np.array([[1.33, 4.5],\n",
        "                [30.0, 10.7],\n",
        "                [70.2, 0.5]])\n",
        "array6_transponer = np.transpose(array6)\n",
        "\n",
        "coordenadas = np.array([[10.8, 3.0],\n",
        "                       [35.8, 12.0]])\n",
        "array6_transponer = np.hstack([array6_transponer, coordenadas])\n",
        "\n",
        "array6 = np.transpose(array6_transponer)\n",
        "\n",
        "print(\"Lo nuevo es:\")\n",
        "print(array6)\n",
        "print(\"Dimensiones\", array6.shape[0], \"filas y\", array6.shape[1], \"columnas\")"
      ],
      "metadata": {
        "colab": {
          "base_uri": "https://localhost:8080/"
        },
        "id": "rqa70zExbrKE",
        "outputId": "e927ab38-df16-492e-8485-7349881ab4aa"
      },
      "execution_count": null,
      "outputs": [
        {
          "output_type": "stream",
          "name": "stdout",
          "text": [
            "Lo nuevo es:\n",
            "[[ 1.33  4.5 ]\n",
            " [30.   10.7 ]\n",
            " [70.2   0.5 ]\n",
            " [10.8  35.8 ]\n",
            " [ 3.   12.  ]]\n",
            "Dimensiones 5 filas y 2 columnas\n"
          ]
        }
      ]
    },
    {
      "cell_type": "markdown",
      "source": [
        "Parte 2"
      ],
      "metadata": {
        "id": "3PIqUY9hcZ4e"
      }
    },
    {
      "cell_type": "code",
      "source": [
        "import pandas as pd\n",
        "import matplotlib.pyplot as plt"
      ],
      "metadata": {
        "id": "hKAf08uVccHw"
      },
      "execution_count": null,
      "outputs": []
    },
    {
      "cell_type": "code",
      "source": [],
      "metadata": {
        "id": "gc1wrW5ZcpMq"
      },
      "execution_count": null,
      "outputs": []
    },
    {
      "cell_type": "code",
      "source": [
        "df = pd.read_csv('/content/drive/MyDrive/NucleosPoblacion.csv')"
      ],
      "metadata": {
        "colab": {
          "base_uri": "https://localhost:8080/",
          "height": 166
        },
        "id": "Qkw1XoAGcpN4",
        "outputId": "e27227c9-d92f-4f39-96a5-00e8a454d980"
      },
      "execution_count": null,
      "outputs": [
        {
          "output_type": "error",
          "ename": "NameError",
          "evalue": "ignored",
          "traceback": [
            "\u001b[0;31m---------------------------------------------------------------------------\u001b[0m",
            "\u001b[0;31mNameError\u001b[0m                                 Traceback (most recent call last)",
            "\u001b[0;32m<ipython-input-4-00a35481b27d>\u001b[0m in \u001b[0;36m<module>\u001b[0;34m\u001b[0m\n\u001b[0;32m----> 1\u001b[0;31m \u001b[0mdf\u001b[0m \u001b[0;34m=\u001b[0m \u001b[0mpd\u001b[0m\u001b[0;34m.\u001b[0m\u001b[0mread_csv\u001b[0m\u001b[0;34m(\u001b[0m\u001b[0;34m'/content/drive/MyDrive/NucleosPoblacion.csv'\u001b[0m\u001b[0;34m)\u001b[0m\u001b[0;34m\u001b[0m\u001b[0;34m\u001b[0m\u001b[0m\n\u001b[0m",
            "\u001b[0;31mNameError\u001b[0m: name 'pd' is not defined"
          ]
        }
      ]
    }
  ]
}